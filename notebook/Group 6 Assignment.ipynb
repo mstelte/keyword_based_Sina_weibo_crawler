{
 "cells": [
  {
   "cell_type": "markdown",
   "id": "c4ecb04c",
   "metadata": {},
   "source": [
    "# Group 6 Assignment"
   ]
  },
  {
   "cell_type": "markdown",
   "id": "974b9060",
   "metadata": {},
   "source": [
    "* Members: ChiaYu Lin, Daumantas Patapas, Marcel Stelte, Michał Butkiewicz\n",
    "* Institution: Vrije Universiteit Amserdam"
   ]
  },
  {
   "cell_type": "markdown",
   "id": "2302fd29",
   "metadata": {},
   "source": [
    "This notebook will present and discuss the code used to retrieve data from the social media platforms Twitter and Sina Weibo."
   ]
  },
  {
   "cell_type": "markdown",
   "metadata": {},
   "source": [
    "## Sina Weibo Crawler"
   ]
  },
  {
   "cell_type": "markdown",
   "metadata": {},
   "source": [
    "In this section the crawler for the Sina Weibo social media platform will be described.\n",
    "\n",
    "The platform is most prominently used in China, therefore the searched keywords are in Chinese too. With only a Dutch phone number it is impossible to create a new account on Sina Weibo, which already prevents the usage of the API provided by Sina Weibo itself. Also if the website is accessed without an account the user will automatically be redirected to the front page. The only exception is the access through the mobile version of the website: https://m.weibo.cn. This version of the website has no restrictions regarding accounts or geolocation, and can therefore be used as a basis for the crawler.\n",
    "\n",
    "Through research an already existing crawler was found: https://github.com/KaidiGuo/keyword_based_Sina_weibo_crawler. This crawler however was not maintained for several years and not functional anymore. It still gave insight in how to construct a working crawler for Sina Weibo using the mobile website. More specifically, this crawler accesses the API that is used as a data model for the mobile version of the platform: https://m.weibo.cn/api/.\n",
    "\n",
    "For the functionality of the crawler several utility functions are necessary, which will be explained first.\n",
    "\n",
    "To make the crawled data reusable at a later point in time it was decided that the results of the crawl should be persisted in a file, so that it could be used later on. For this it needs to be checked if a fitting directory already exists, or if it has to be created. The function for this is depicted below. It checks if a folder called \"data\" exists within the location in which this notebook will be executed, and creates such a directory if it does not exist yet."
   ]
  },
  {
   "cell_type": "code",
   "execution_count": null,
   "id": "ef5c62f1",
   "metadata": {},
   "outputs": [],
   "source": [
    "import os\n",
    "\n",
    "def init_directories():\n",
    "    db_path = f\"{os.path.dirname(os.path.realpath(__file__))}/data/\"\n",
    "\n",
    "    if not os.path.exists(db_path):\n",
    "        os.mkdir(db_path)"
   ]
  },
  {
   "cell_type": "markdown",
   "metadata": {},
   "source": [
    "Next, since the keywords need to be represented in an URL string which is appended to the URL of the mobile API, certain characters need to be formatted differently. In the case of this project it was only necessary to do this for the \"#\" symbol, but the following method can easily be extended with further symbols:"
   ]
  },
  {
   "cell_type": "code",
   "execution_count": null,
   "metadata": {},
   "outputs": [],
   "source": [
    "def format_keyword_for_url(keyword: str) -> str:\n",
    "    return keyword.replace(\"#\", \"%23\")"
   ]
  },
  {
   "cell_type": "markdown",
   "metadata": {},
   "source": [
    "The Sina Weibo mobile API returns posts in form of so-called cards. They are however not returned as a list but a tree with any number of branches on each node. To make them easier processable later on a function is provided that puts the cards into a list. There are also many cards that contain no actual posts but e.g. suggestions for users that might be interesting to the user, advertisements, etc., which are not relevant for this research and are therefore filtered from the list too.\n",
    "\n",
    "The relevant numerical card_types represent the following cards:\n",
    "* mblog: Contains a singuler post that can be added to the list\n",
    "* card_group: Contains a list of cards that need to be analysed recursively\n",
    "* left_- and right_element: Some cards are split horizontally and contain two \"mblog\" cards that can be added to the list\n",
    "\n",
    "The following URL gives an example of how the posts are formatted in the API: https://m.weibo.cn/api/container/getIndex?containerid=100103type%3D1%26q%3D%23%E8%8B%B1%E9%9B%84%E8%81%94%E7%9B%9F%23%23EDG%23. The cards 0 and 1 contain a card with a singular \"mblog\", which can be added to the list. Card 2 contains a \"card_group\", which in turn contains a card with a \"mblog\" and a card without a group or a post. Therefore only the first child of card 2 should be added to the list.\n",
    "\n",
    "There is also a mechanism in place that stores the ID of each added card in a set. For each new card it will be checked whether that ID is already in the set or not. This mechanism prevents duplicate entries in the list of cards that could falsify the result."
   ]
  },
  {
   "cell_type": "code",
   "execution_count": null,
   "metadata": {},
   "outputs": [],
   "source": [
    "import json\n",
    "\n",
    "def unpack_nested_cards(retrieved_cards: any) -> set[any]:\n",
    "\n",
    "    cards = []\n",
    "    card_ids = set()\n",
    "\n",
    "    for retrieved_card in retrieved_cards:\n",
    "\n",
    "        json_card = json.loads(json.dumps(retrieved_card))\n",
    "\n",
    "        if json_card.get(\"mblog\"):\n",
    "            card_id = retrieved_card[\"mblog\"][\"id\"]\n",
    "            if card_id not in card_ids:\n",
    "                cards.append(retrieved_card)\n",
    "                card_ids.add(card_id)\n",
    "\n",
    "        if json_card.get(\"card_group\"):\n",
    "            for card in unpack_nested_cards(retrieved_card[\"card_group\"]):\n",
    "                card_id = card[\"mblog\"][\"id\"]\n",
    "                if card_id not in card_ids:\n",
    "                    cards.append(card)\n",
    "                    card_ids.add(card_id)\n",
    "\n",
    "        if json_card.get(\"left_element\"):\n",
    "            card_id = retrieved_card[\"left_element\"][\"mblog\"][\"id\"]\n",
    "            if card_id not in card_ids:\n",
    "                cards.append(retrieved_card[\"left_element\"])\n",
    "                card_ids.add(card_id)\n",
    "\n",
    "        if json_card.get(\"right_element\"):\n",
    "            card_id = retrieved_card[\"right_element\"][\"mblog\"][\"id\"]\n",
    "            if card_id not in card_ids:\n",
    "                cards.append(retrieved_card[\"right_element\"])\n",
    "                card_ids.add(card_id)\n",
    "\n",
    "    return cards"
   ]
  },
  {
   "cell_type": "markdown",
   "metadata": {},
   "source": [
    "The next utility functions focus in formatting datetimes. Since it is necessary to limit the retrieved data to a specific time frame, the creation date and time retrieved by the mobile API needs to be parsed into a datetime object, which can then be compared to previously specified datetime objects to evaluate if the current card is within the allowed timeframe.\n",
    "\n",
    "The previous example showed that the API returns the datetime in the following format: \"Sun Nov 07 02:17:19 +0800 2021\". Since the month is not returned as a numerical object, first a function that parses the month into a numerical value is needed:"
   ]
  },
  {
   "cell_type": "code",
   "execution_count": null,
   "metadata": {},
   "outputs": [],
   "source": [
    "def parse_month_to_int(month: str) -> int:\n",
    "    if month == 'Jan':\n",
    "        return 1\n",
    "    if month == 'Feb':\n",
    "        return 2\n",
    "    if month == 'Mar':\n",
    "        return 3\n",
    "    if month == 'Apr':\n",
    "        return 4\n",
    "    if month == 'May':\n",
    "        return 5\n",
    "    if month == 'Jun':\n",
    "        return 6\n",
    "    if month == 'Jul':\n",
    "        return 7\n",
    "    if month == 'Aug':\n",
    "        return 8\n",
    "    if month == 'Sep':\n",
    "        return 9\n",
    "    if month == 'Oct':\n",
    "        return 10\n",
    "    if month == 'Nov':\n",
    "        return 11\n",
    "    if month == 'Dec':\n",
    "        return 12"
   ]
  },
  {
   "cell_type": "markdown",
   "metadata": {},
   "source": [
    "Afterwards the rest of the retrieved datetime string needs to be processed:"
   ]
  },
  {
   "cell_type": "code",
   "execution_count": null,
   "metadata": {},
   "outputs": [],
   "source": [
    "import datetime\n",
    "\n",
    "def parse_creation_time_of_card(creation_time: str) -> datetime:\n",
    "    (weekday, month, day, time, timezone, year) = creation_time.split(\" \")\n",
    "    (hour, minute, second) = time.split(\":\")\n",
    "    if timezone[0:1] == \"+\":\n",
    "        actual_timezone = datetime.timezone(datetime.timedelta(hours = int(timezone[1:]) / 100))\n",
    "    elif timezone[0:1] == \"-\":\n",
    "        actual_timezone = datetime.timezone(datetime.timedelta(hours = int(timezone[1:]) / -100))\n",
    "    actual_creation_time = datetime.datetime(int(year), parse_month_to_int(month), int(day), int(hour), int(minute), int(second), 0, actual_timezone)\n",
    "\n",
    "    return actual_creation_time"
   ]
  }
 ],
 "metadata": {
  "interpreter": {
   "hash": "ac59ebe37160ed0dfa835113d9b8498d9f09ceb179beaac4002f036b9467c963"
  },
  "kernelspec": {
   "display_name": "Python 3.9.7 64-bit",
   "name": "python3"
  },
  "language_info": {
   "codemirror_mode": {
    "name": "ipython",
    "version": 3
   },
   "file_extension": ".py",
   "mimetype": "text/x-python",
   "name": "python",
   "nbconvert_exporter": "python",
   "pygments_lexer": "ipython3",
   "version": "3.9.7"
  }
 },
 "nbformat": 4,
 "nbformat_minor": 5
}
