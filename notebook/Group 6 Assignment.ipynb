{
 "cells": [
  {
   "cell_type": "markdown",
   "id": "c4ecb04c",
   "metadata": {},
   "source": [
    "# Group 6 Assignment"
   ]
  },
  {
   "cell_type": "markdown",
   "id": "974b9060",
   "metadata": {},
   "source": [
    "* Members: ChiaYu Lin, Daumantas Patapas, Marcel Stelte, Michał Butkiewicz\n",
    "* Institution: Vrije Universiteit Amserdam"
   ]
  },
  {
   "cell_type": "markdown",
   "id": "2302fd29",
   "metadata": {},
   "source": [
    "This notebook will present and discuss the code used to retrieve data from the social media platforms Twitter and Sina Weibo."
   ]
  },
  {
   "cell_type": "code",
   "execution_count": null,
   "id": "ef5c62f1",
   "metadata": {},
   "outputs": [],
   "source": []
  }
 ],
 "metadata": {
  "kernelspec": {
   "display_name": "Python 3 (ipykernel)",
   "language": "python",
   "name": "python3"
  },
  "language_info": {
   "codemirror_mode": {
    "name": "ipython",
    "version": 3
   },
   "file_extension": ".py",
   "mimetype": "text/x-python",
   "name": "python",
   "nbconvert_exporter": "python",
   "pygments_lexer": "ipython3",
   "version": "3.9.0"
  }
 },
 "nbformat": 4,
 "nbformat_minor": 5
}
